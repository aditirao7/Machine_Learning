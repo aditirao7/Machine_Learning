{
 "cells": [
  {
   "cell_type": "code",
   "execution_count": 1,
   "metadata": {},
   "outputs": [
    {
     "name": "stdout",
     "output_type": "stream",
     "text": [
      "\n",
      "Cost: [[2.5348194]]\n",
      "Expected cost: 2.534819\n",
      "\n",
      "Gradients:\n",
      "\n",
      "[ 0.14656137 -0.54855841  0.72472227  1.39800296]\n",
      "\n",
      "Expected gradients:\n",
      "\n",
      " 0.146561\n",
      " -0.548558\n",
      " 0.724722\n",
      " 1.398003\n",
      "\n",
      "\n",
      "Training Set Accuracy: 96.46000000000001\n"
     ]
    }
   ],
   "source": [
    "%matplotlib inline\n",
    "from mpl_toolkits import mplot3d\n",
    "import scipy.optimize as op\n",
    "import scipy.io as io\n",
    "import numpy as np \n",
    "import pandas as pd\n",
    "import matplotlib.pyplot as plt\n",
    "plt.rcParams['figure.figsize']=(20.0,10.0)\n",
    "\n",
    "def sigmoid(z):\n",
    "    g = np.zeros((z.shape[0],1))\n",
    "    g=1/(1+np.exp(-z))\n",
    "    return g\n",
    "\n",
    "def costfunc(theta, X, y, lambda1):\n",
    "    m= X.shape[0]\n",
    "    n=X.shape[1]\n",
    "    theta = theta.reshape((n,1));\n",
    "    y = y.reshape((m,1));\n",
    "    J = -((np.dot(y.T,np.log(sigmoid(np.dot(X,theta))))+(np.dot((1-y).T,np.log(1-sigmoid(np.dot(X,theta))))))/m)+((np.sum(theta**2)-theta[0]**2)*(lambda1/(2*m)))\n",
    "    return J\n",
    "\n",
    "def gradient(theta, X, y, lambda1):\n",
    "    m= X.shape[0]\n",
    "    n=X.shape[1]\n",
    "    theta = theta.reshape((n,1));\n",
    "    y = y.reshape((m,1))\n",
    "    temp = ((X.T).dot(sigmoid(X.dot(theta))-y))/m\n",
    "    grad = (np.dot((X.T),(sigmoid(np.dot(X,theta))-y))/m)+(theta*(lambda1/m))\n",
    "    grad[0]=temp[0]\n",
    "    grad=grad.flatten()\n",
    "    return grad\n",
    "\n",
    "input_layer_size  = 400\n",
    "num_labels = 10\n",
    "\n",
    "mat = io.loadmat('ex3data1.mat')\n",
    "X=mat['X']\n",
    "y=mat['y']\n",
    "m = X.shape[0]\n",
    "\n",
    "theta_t = np.array([-2, -1, 1, 2]).reshape(-1,1)\n",
    "X_t = np.concatenate((np.ones((5,1)),np.array(range(1,16)).reshape(3,5).T/10), axis=1)\n",
    "y_t=np.array([1,0,1,0,1]).reshape(-1,1)\n",
    "lambda_t = 3\n",
    "\n",
    "J = 0\n",
    "grad = np.zeros(theta_t.shape[0])\n",
    "J = costfunc(theta_t, X_t, y_t, lambda_t)\n",
    "grad=gradient(theta_t, X_t, y_t, lambda_t)\n",
    "\n",
    "print('\\nCost:', J)\n",
    "print('Expected cost: 2.534819\\n')\n",
    "print('Gradients:\\n')\n",
    "print(grad)\n",
    "print('\\nExpected gradients:\\n')\n",
    "print(' 0.146561\\n -0.548558\\n 0.724722\\n 1.398003\\n')\n",
    "\n",
    "lambda1 = 0.1\n",
    "[m,n]=X.shape\n",
    "\n",
    "y=y-1\n",
    "all_theta = np.zeros((num_labels, n + 1))\n",
    "X = np.concatenate((np.ones((m,1)),X),axis=1)\n",
    "for c in range(0,num_labels):\n",
    "  y1=(y==c)*1\n",
    "  initial_theta = np.zeros((n+1, 1)).reshape(-1,1)\n",
    "  res=op.minimize(fun=costfunc, x0=initial_theta, args=(X,y1,lambda1), jac=gradient, method='CG', options={'maxiter':300})\n",
    "  theta=res['x'].reshape(-1,1)\n",
    "  all_theta[c,:] = theta.T\n",
    "\n",
    "num_labels = all_theta.shape[0]\n",
    "p = np.zeros((m, 1))\n",
    "h=sigmoid(np.dot(X,all_theta.T))\n",
    "ix=np.argmax(h, axis=1).reshape(-1,1)\n",
    "p=ix\n",
    "p=(p==y)*1\n",
    "print('\\nTraining Set Accuracy:', np.mean(p) * 100)"
   ]
  },
  {
   "cell_type": "code",
   "execution_count": 3,
   "metadata": {},
   "outputs": [
    {
     "name": "stdout",
     "output_type": "stream",
     "text": [
      "\n",
      "Training Set Accuracy: 97.52\n"
     ]
    }
   ],
   "source": [
    "input_layer_size  = 400\n",
    "hidden_layer_size = 25\n",
    "num_labels = 10\n",
    "\n",
    "mat = io.loadmat('ex3data1.mat')\n",
    "X=mat['X']\n",
    "y=mat['y']\n",
    "m = X.shape[0]\n",
    "\n",
    "weights=io.loadmat('ex3weights.mat')\n",
    "Theta1=weights['Theta1']\n",
    "Theta2=weights['Theta2']\n",
    "\n",
    "y=y-1\n",
    "p = np.zeros((m, 1))\n",
    "X = np.concatenate((np.ones((m,1)),X),axis=1)\n",
    "a=sigmoid(np.dot(X,Theta1.T))\n",
    "a=np.concatenate((np.ones((m,1)),a),axis=1)\n",
    "h=sigmoid(np.dot(a,Theta2.T))\n",
    "ix=np.argmax(h, axis=1).reshape(-1,1)\n",
    "p=ix\n",
    "p=(p==y)*1\n",
    "print('\\nTraining Set Accuracy:', np.mean(p) * 100)"
   ]
  },
  {
   "cell_type": "code",
   "execution_count": null,
   "metadata": {},
   "outputs": [],
   "source": []
  },
  {
   "cell_type": "code",
   "execution_count": null,
   "metadata": {},
   "outputs": [],
   "source": []
  }
 ],
 "metadata": {
  "kernelspec": {
   "display_name": "Python 3",
   "language": "python",
   "name": "python3"
  },
  "language_info": {
   "codemirror_mode": {
    "name": "ipython",
    "version": 3
   },
   "file_extension": ".py",
   "mimetype": "text/x-python",
   "name": "python",
   "nbconvert_exporter": "python",
   "pygments_lexer": "ipython3",
   "version": "3.7.4"
  }
 },
 "nbformat": 4,
 "nbformat_minor": 2
}
