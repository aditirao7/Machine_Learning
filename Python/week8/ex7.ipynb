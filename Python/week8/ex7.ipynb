{
 "cells": [
  {
   "cell_type": "code",
   "execution_count": 2,
   "metadata": {},
   "outputs": [
    {
     "name": "stdout",
     "output_type": "stream",
     "text": [
      "Closest centroids for the first 3 examples:\n",
      "\n",
      "[[0.]\n",
      " [2.]\n",
      " [1.]]\n",
      "\n",
      "(the closest centroids should be 0, 2, 1 respectively)\n",
      "\n",
      "\n",
      "Centroids computed after initial finding of closest centroids: \n",
      "\n",
      "[[2.42830111 3.15792418]\n",
      " [5.81350331 2.63365645]\n",
      " [7.11938687 3.6166844 ]]\n",
      "\n",
      "(the centroids should be\n",
      "\n",
      "[2.428301 3.157924]\n",
      "[5.813503 2.633656]\n",
      "[7.119387 3.616684]\n",
      "\n"
     ]
    },
    {
     "data": {
      "image/png": "[encoded data removed]",
      "text/plain": [
       "<Figure size 1440x720 with 1 Axes>"
      ]
     },
     "metadata": {
      "needs_background": "light"
     },
     "output_type": "display_data"
    }
   ],
   "source": [
    "%matplotlib inline\n",
    "from sklearn import svm\n",
    "import scipy.io as io\n",
    "import random\n",
    "import scipy.optimize as op\n",
    "from mpl_toolkits import mplot3d\n",
    "import scipy.ndimage\n",
    "import numpy as np \n",
    "import pandas as pd\n",
    "import matplotlib.pyplot as plt\n",
    "plt.rcParams['figure.figsize']=(20.0,10.0)\n",
    "\n",
    "def computeCentroids(X, idx, K):\n",
    "    [m,n]=X.shape\n",
    "    centroids = np.zeros((K, n))\n",
    "    for i in range(0,K):\n",
    "        centroids[i,:]=np.sum(X[np.where(idx==i)[0], :], 0)/np.sum((idx==i)*1)\n",
    "    return centroids\n",
    "\n",
    "def findClosestCentroids(X, centroids):\n",
    "    K = centroids.shape[0]\n",
    "    idx = np.zeros((X.shape[0], 1))\n",
    "    m = X.shape[0]\n",
    "    for i in range(0,m):\n",
    "        least=100000000\n",
    "        for j in range(0,K):\n",
    "            c=sum((X[i,:] - centroids[j,:])**2)\n",
    "            if c<least:\n",
    "                least=c\n",
    "                idx[i] = j\n",
    "    return idx\n",
    "\n",
    "mat = io.loadmat('ex7data2.mat')\n",
    "X=mat['X']\n",
    "\n",
    "K = 3\n",
    "initial_centroids = np.array([[3,3],[6,2],[8,5]])\n",
    "idx = findClosestCentroids(X, initial_centroids)\n",
    "print('Closest centroids for the first 3 examples:\\n')\n",
    "print(idx[0:3, :])\n",
    "print('\\n(the closest centroids should be 0, 2, 1 respectively)\\n')\n",
    "\n",
    "print()\n",
    "\n",
    "centroids = computeCentroids(X, idx, K)\n",
    "print('Centroids computed after initial finding of closest centroids: \\n')\n",
    "print(centroids)\n",
    "print('\\n(the centroids should be\\n')\n",
    "print('[2.428301 3.157924]')\n",
    "print('[5.813503 2.633656]')\n",
    "print('[7.119387 3.616684]\\n')\n",
    "\n",
    "K = 3\n",
    "max_iters = 10\n",
    "centroids=initial_centroids\n",
    "for i in range(0,max_iters):\n",
    "    idx = findClosestCentroids(X, centroids)\n",
    "    centroids = computeCentroids(X, idx, K)\n",
    "    palette = plt.hsv()\n",
    "    plt.scatter(X[:,0], X[:,1], 15, palette)\n",
    "    plt.plot(centroids[0,0], centroids[0,1], 'rx', centroids[1,0], centroids[1,1], 'bx', centroids[2,0], centroids[2,1], 'gx', ms=10, mew=4)\n",
    "plt.show()"
   ]
  },
  {
   "cell_type": "code",
   "execution_count": 3,
   "metadata": {},
   "outputs": [
    {
     "name": "stdout",
     "output_type": "stream",
     "text": [
      "Top eigenvector:\n",
      "[-0.70710678 -0.70710678]\n",
      "\n",
      "you should expect to see [-0.707107 -0.707107]\n",
      "\n",
      "Projection of the first example: [1.49631261]\n",
      "(this value should be about 1.481274)\n",
      "\n",
      "Approximation of the first example: [-1.05805279 -1.05805279]\n",
      "(this value should be about -1.047419 -1.047419)\n",
      "\n"
     ]
    }
   ],
   "source": [
    "mat = io.loadmat('ex7data1.mat')\n",
    "X=mat['X']\n",
    "[m,n]=X.shape\n",
    "\n",
    "mu=np.mean(X, axis=0).reshape(-1,1)\n",
    "sigma=np.std(X, axis=0).reshape(-1,1)\n",
    "X_norm=(X - mu.T)/sigma.T\n",
    "Sigma=(1/m)*np.dot(X_norm.T,X_norm)\n",
    "[U, S, V] = np.linalg.svd(Sigma)\n",
    "\n",
    "print('Top eigenvector:')\n",
    "print(U[0,:])\n",
    "print('\\nyou should expect to see [-0.707107 -0.707107]\\n')\n",
    "\n",
    "K = 1\n",
    "Ureduce=U[:,0:K]\n",
    "Z=np.dot(X_norm,Ureduce)\n",
    "print('Projection of the first example:', Z[0])\n",
    "print('(this value should be about 1.481274)\\n')\n",
    "        \n",
    "X_rec=np.dot(Z,Ureduce.T)\n",
    "print('Approximation of the first example:', X_rec[0,:])\n",
    "print('(this value should be about -1.047419 -1.047419)\\n')"
   ]
  },
  {
   "cell_type": "code",
   "execution_count": null,
   "metadata": {},
   "outputs": [],
   "source": []
  }
 ],
 "metadata": {
  "kernelspec": {
   "display_name": "Python 3",
   "language": "python",
   "name": "python3"
  },
  "language_info": {
   "codemirror_mode": {
    "name": "ipython",
    "version": 3
   },
   "file_extension": ".py",
   "mimetype": "text/x-python",
   "name": "python",
   "nbconvert_exporter": "python",
   "pygments_lexer": "ipython3",
   "version": "3.7.4"
  }
 },
 "nbformat": 4,
 "nbformat_minor": 2
}
